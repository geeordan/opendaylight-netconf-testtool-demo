{
 "cells": [
  {
   "cell_type": "code",
   "execution_count": 1,
   "metadata": {},
   "outputs": [],
   "source": [
    "import requests\n",
    "import json\n",
    "\n",
    "XML_HEADERS = {\n",
    "    'Content-Type': 'application/xml',\n",
    "    'Accept': 'application/xml',\n",
    "    'Authorization': 'Basic YWRtaW46YWRtaW4='\n",
    "}\n",
    "\n",
    "JSON_HEADERS = {\n",
    "    'Content-Type': 'application/json',\n",
    "    'Accept': 'application/json',\n",
    "    'Authorization': 'Basic YWRtaW46YWRtaW4='\n",
    "}\n",
    "\n",
    "controller_ip = \"54.186.100.180\""
   ]
  },
  {
   "cell_type": "markdown",
   "metadata": {},
   "source": [
    "### Step 1: Netconf Mount the Testtool"
   ]
  },
  {
   "cell_type": "code",
   "execution_count": 2,
   "metadata": {},
   "outputs": [
    {
     "name": "stdout",
     "output_type": "stream",
     "text": [
      "<Response [200]>\n"
     ]
    }
   ],
   "source": [
    "payload = '''\n",
    "<node xmlns=\"urn:TBD:params:xml:ns:yang:network-topology\"> \n",
    "<node-id>testtool</node-id> \n",
    "<host xmlns=\"urn:opendaylight:netconf-node-topology\">54.186.100.180</host> \n",
    "<port xmlns=\"urn:opendaylight:netconf-node-topology\">17830</port> \n",
    "<username xmlns=\"urn:opendaylight:netconf-node-topology\">admin</username> \n",
    "<password xmlns=\"urn:opendaylight:netconf-node-topology\">admin</password> \n",
    "<tcp-only xmlns=\"urn:opendaylight:netconf-node-topology\">false</tcp-only> \n",
    "<keepalive-delay xmlns=\"urn:opendaylight:netconf-node-topology\">60</keepalive-delay> </node>\n",
    "'''\n",
    "\n",
    "endpoint_url = \"http://{}:8181/restconf/config/network-topology:network-topology/topology/topology-netconf/node/testtool\".format(controller_ip)\n",
    "\n",
    "response = requests.put(url=endpoint_url, data=payload, headers=XML_HEADERS)\n",
    "print(response)"
   ]
  },
  {
   "cell_type": "markdown",
   "metadata": {},
   "source": [
    "### Step 2: Fetch Network Topology"
   ]
  },
  {
   "cell_type": "code",
   "execution_count": 3,
   "metadata": {},
   "outputs": [
    {
     "name": "stdout",
     "output_type": "stream",
     "text": [
      "{\n",
      "    \"node\": [\n",
      "        {\n",
      "            \"netconf-node-topology:host\": \"54.186.100.180\",\n",
      "            \"netconf-node-topology:keepalive-delay\": 60,\n",
      "            \"netconf-node-topology:password\": \"admin\",\n",
      "            \"netconf-node-topology:port\": 17830,\n",
      "            \"netconf-node-topology:tcp-only\": false,\n",
      "            \"netconf-node-topology:username\": \"admin\",\n",
      "            \"node-id\": \"testtool\"\n",
      "        }\n",
      "    ]\n",
      "}\n"
     ]
    }
   ],
   "source": [
    "endpoint_url = \"http://{}:8181/restconf/config/network-topology:network-topology/topology/topology-netconf/node/testtool\".format(controller_ip)\n",
    "\n",
    "response = requests.get(url=endpoint_url, headers=JSON_HEADERS)\n",
    "output = json.loads(response.content)\n",
    "print(json.dumps(output, indent=4, sort_keys=True))"
   ]
  },
  {
   "cell_type": "markdown",
   "metadata": {},
   "source": [
    "### Step 3: Fetch Netconf Topology Operational Status"
   ]
  },
  {
   "cell_type": "code",
   "execution_count": 4,
   "metadata": {},
   "outputs": [
    {
     "name": "stdout",
     "output_type": "stream",
     "text": [
      "{\n",
      "    \"node\": [\n",
      "        {\n",
      "            \"netconf-node-topology:available-capabilities\": {\n",
      "                \"available-capability\": [\n",
      "                    {\n",
      "                        \"capability\": \"urn:ietf:params:netconf:capability:exi:1.0\",\n",
      "                        \"capability-origin\": \"device-advertised\"\n",
      "                    },\n",
      "                    {\n",
      "                        \"capability\": \"urn:ietf:params:netconf:base:1.0\",\n",
      "                        \"capability-origin\": \"device-advertised\"\n",
      "                    },\n",
      "                    {\n",
      "                        \"capability\": \"urn:ietf:params:netconf:base:1.1\",\n",
      "                        \"capability-origin\": \"device-advertised\"\n",
      "                    },\n",
      "                    {\n",
      "                        \"capability\": \"urn:ietf:params:netconf:capability:candidate:1.0\",\n",
      "                        \"capability-origin\": \"device-advertised\"\n",
      "                    },\n",
      "                    {\n",
      "                        \"capability\": \"(urn:ietf:params:xml:ns:yang:ietf-netconf-monitoring?revision=2010-10-04)ietf-netconf-monitoring\",\n",
      "                        \"capability-origin\": \"device-advertised\"\n",
      "                    },\n",
      "                    {\n",
      "                        \"capability\": \"(http://openconfig.net/yang/interfaces/ip?revision=2019-01-08)openconfig-if-ip\",\n",
      "                        \"capability-origin\": \"device-advertised\"\n",
      "                    },\n",
      "                    {\n",
      "                        \"capability\": \"(http://openconfig.net/yang/interfaces/ethernet?revision=2020-05-06)openconfig-if-ethernet\",\n",
      "                        \"capability-origin\": \"device-advertised\"\n",
      "                    },\n",
      "                    {\n",
      "                        \"capability\": \"(urn:ietf:params:xml:ns:yang:ietf-interfaces?revision=2018-02-20)ietf-interfaces\",\n",
      "                        \"capability-origin\": \"device-advertised\"\n",
      "                    },\n",
      "                    {\n",
      "                        \"capability\": \"(http://openconfig.net/yang/types/inet?revision=2019-04-25)openconfig-inet-types\",\n",
      "                        \"capability-origin\": \"device-advertised\"\n",
      "                    },\n",
      "                    {\n",
      "                        \"capability\": \"(urn:ietf:params:xml:ns:yang:ietf-yang-types?revision=2013-07-15)ietf-yang-types\",\n",
      "                        \"capability-origin\": \"device-advertised\"\n",
      "                    },\n",
      "                    {\n",
      "                        \"capability\": \"(http://openconfig.net/yang/interfaces/aggregate?revision=2020-05-01)openconfig-if-aggregate\",\n",
      "                        \"capability-origin\": \"device-advertised\"\n",
      "                    },\n",
      "                    {\n",
      "                        \"capability\": \"(http://openconfig.net/yang/types/yang?revision=2018-11-21)openconfig-yang-types\",\n",
      "                        \"capability-origin\": \"device-advertised\"\n",
      "                    },\n",
      "                    {\n",
      "                        \"capability\": \"(urn:ietf:params:xml:ns:yang:ietf-netconf-monitoring-extension?revision=2013-12-10)ietf-netconf-monitoring-extension\",\n",
      "                        \"capability-origin\": \"device-advertised\"\n",
      "                    },\n",
      "                    {\n",
      "                        \"capability\": \"(http://openconfig.net/yang/openconfig-if-types?revision=2018-11-21)openconfig-if-types\",\n",
      "                        \"capability-origin\": \"device-advertised\"\n",
      "                    },\n",
      "                    {\n",
      "                        \"capability\": \"(http://openconfig.net/yang/openconfig-types?revision=2019-04-16)openconfig-types\",\n",
      "                        \"capability-origin\": \"device-advertised\"\n",
      "                    },\n",
      "                    {\n",
      "                        \"capability\": \"(http://openconfig.net/yang/vlan-types?revision=2019-01-31)openconfig-vlan-types\",\n",
      "                        \"capability-origin\": \"device-advertised\"\n",
      "                    },\n",
      "                    {\n",
      "                        \"capability\": \"(http://openconfig.net/yang/interfaces?revision=2019-11-19)openconfig-interfaces\",\n",
      "                        \"capability-origin\": \"device-advertised\"\n",
      "                    },\n",
      "                    {\n",
      "                        \"capability\": \"(urn:ietf:params:xml:ns:yang:ietf-inet-types?revision=2013-07-15)ietf-inet-types\",\n",
      "                        \"capability-origin\": \"device-advertised\"\n",
      "                    },\n",
      "                    {\n",
      "                        \"capability\": \"(http://openconfig.net/yang/openconfig-ext?revision=2018-10-17)openconfig-extensions\",\n",
      "                        \"capability-origin\": \"device-advertised\"\n",
      "                    },\n",
      "                    {\n",
      "                        \"capability\": \"(urn:ietf:params:xml:ns:yang:iana-if-type?revision=2020-07-13)iana-if-type\",\n",
      "                        \"capability-origin\": \"device-advertised\"\n",
      "                    },\n",
      "                    {\n",
      "                        \"capability\": \"(http://openconfig.net/yang/vlan?revision=2019-04-16)openconfig-vlan\",\n",
      "                        \"capability-origin\": \"device-advertised\"\n",
      "                    }\n",
      "                ]\n",
      "            },\n",
      "            \"netconf-node-topology:connection-status\": \"connected\",\n",
      "            \"netconf-node-topology:host\": \"54.186.100.180\",\n",
      "            \"netconf-node-topology:port\": 17830,\n",
      "            \"node-id\": \"testtool\"\n",
      "        }\n",
      "    ]\n",
      "}\n"
     ]
    }
   ],
   "source": [
    "endpoint_url = \"http://{}:8181/restconf/operational/network-topology:network-topology/topology/topology-netconf/node/testtool\".format(controller_ip)\n",
    "\n",
    "response = requests.get(url=endpoint_url, headers=JSON_HEADERS)\n",
    "output = json.loads(response.content)\n",
    "print(json.dumps(output, indent=4, sort_keys=True))"
   ]
  },
  {
   "cell_type": "markdown",
   "metadata": {},
   "source": [
    "### Step 4: Add an Interface Using the Openconfig:Interfaces Model"
   ]
  },
  {
   "cell_type": "code",
   "execution_count": 5,
   "metadata": {},
   "outputs": [
    {
     "name": "stdout",
     "output_type": "stream",
     "text": [
      "<Response [201]>\n"
     ]
    }
   ],
   "source": [
    "payload = '''\n",
    "{\n",
    "    \"openconfig-interfaces:interfaces\": {\n",
    "        \"interface\": [\n",
    "            {\n",
    "                \"config\": {\n",
    "                    \"description\": \"Interface ge-1/2/3 mod 01\", \n",
    "                    \"name\": \"ge-1/2/3\"\n",
    "                }, \n",
    "                \"name\": \"ge-1/2/3\", \n",
    "                \"openconfig-vlan:routed-vlan\": {\n",
    "                    \"openconfig-if-ip:ipv4\": {\n",
    "                        \"config\": {}\n",
    "                    }\n",
    "                }, \n",
    "                \"subinterfaces\": {\n",
    "                    \"subinterface\": [\n",
    "                        {\n",
    "                            \"config\": {\n",
    "                                \"index\": 0\n",
    "                            }, \n",
    "                            \"index\": 0, \n",
    "                            \"openconfig-if-ip:ipv4\": {\n",
    "                                \"addresses\": {\n",
    "                                    \"address\": [\n",
    "                                        {\n",
    "                                            \"config\": {\n",
    "                                                \"prefix-length\": 20\n",
    "                                            }, \n",
    "                                            \"ip\": \"172.18.1.1\"\n",
    "                                        }\n",
    "                                    ]\n",
    "                                }\n",
    "                            }\n",
    "                        }\n",
    "                    ]\n",
    "                }\n",
    "            }\n",
    "        ]\n",
    "    }\n",
    "}\n",
    "'''\n",
    "\n",
    "endpoint_url = \"http://{}:8181/restconf/config/network-topology:network-topology/topology/topology-netconf/node/testtool/yang-ext:mount/openconfig-interfaces:interfaces\".format(controller_ip)\n",
    "\n",
    "response = requests.put(url=endpoint_url, data=payload, headers=JSON_HEADERS)\n",
    "print(response)"
   ]
  },
  {
   "cell_type": "markdown",
   "metadata": {},
   "source": [
    "### Step 5: Fetch Interfaces Using the Openconfig:Interfaces Model "
   ]
  },
  {
   "cell_type": "code",
   "execution_count": 6,
   "metadata": {},
   "outputs": [
    {
     "name": "stdout",
     "output_type": "stream",
     "text": [
      "{\n",
      "    \"interfaces\": {\n",
      "        \"interface\": [\n",
      "            {\n",
      "                \"config\": {\n",
      "                    \"description\": \"Interface ge-1/2/3 mod 01\",\n",
      "                    \"name\": \"ge-1/2/3\"\n",
      "                },\n",
      "                \"name\": \"ge-1/2/3\",\n",
      "                \"subinterfaces\": {\n",
      "                    \"subinterface\": [\n",
      "                        {\n",
      "                            \"config\": {\n",
      "                                \"index\": 0\n",
      "                            },\n",
      "                            \"index\": 0,\n",
      "                            \"openconfig-if-ip:ipv4\": {\n",
      "                                \"addresses\": {\n",
      "                                    \"address\": [\n",
      "                                        {\n",
      "                                            \"config\": {\n",
      "                                                \"prefix-length\": 20\n",
      "                                            },\n",
      "                                            \"ip\": \"172.18.1.1\"\n",
      "                                        }\n",
      "                                    ]\n",
      "                                }\n",
      "                            }\n",
      "                        }\n",
      "                    ]\n",
      "                }\n",
      "            }\n",
      "        ]\n",
      "    }\n",
      "}\n"
     ]
    }
   ],
   "source": [
    "endpoint_url = \"http://{}:8181/restconf/config/network-topology:network-topology/topology/topology-netconf/node/testtool/yang-ext:mount/openconfig-interfaces:interfaces\".format(controller_ip)\n",
    "\n",
    "response = requests.get(url=endpoint_url, headers=JSON_HEADERS)\n",
    "output = json.loads(response.content)\n",
    "print(json.dumps(output, indent=4, sort_keys=True))"
   ]
  },
  {
   "cell_type": "code",
   "execution_count": null,
   "metadata": {},
   "outputs": [],
   "source": []
  }
 ],
 "metadata": {
  "kernelspec": {
   "display_name": "Python 3",
   "language": "python",
   "name": "python3"
  },
  "language_info": {
   "codemirror_mode": {
    "name": "ipython",
    "version": 3
   },
   "file_extension": ".py",
   "mimetype": "text/x-python",
   "name": "python",
   "nbconvert_exporter": "python",
   "pygments_lexer": "ipython3",
   "version": "3.7.4"
  }
 },
 "nbformat": 4,
 "nbformat_minor": 4
}
